{
  "nbformat": 4,
  "nbformat_minor": 0,
  "metadata": {
    "colab": {
      "provenance": []
    },
    "kernelspec": {
      "name": "python3",
      "display_name": "Python 3"
    },
    "language_info": {
      "name": "python"
    }
  },
  "cells": [
    {
      "cell_type": "markdown",
      "source": [
        "QN 1)\n",
        "\n",
        "Write a Python program to sum all the items in a list"
      ],
      "metadata": {
        "id": "AujrTMlYKV1_"
      }
    },
    {
      "cell_type": "code",
      "execution_count": 1,
      "metadata": {
        "colab": {
          "base_uri": "https://localhost:8080/"
        },
        "id": "PacBNaOxKFoe",
        "outputId": "25adfd93-ea14-44d9-b660-98c4848bbddd"
      },
      "outputs": [
        {
          "output_type": "stream",
          "name": "stdout",
          "text": [
            "-4\n"
          ]
        }
      ],
      "source": [
        "def sum_list(items):\n",
        "    sum_numbers = 0\n",
        "    for x in items:\n",
        "        sum_numbers += x\n",
        "    return sum_numbers\n",
        "print(sum_list([1, 2, -7]))\n"
      ]
    },
    {
      "cell_type": "markdown",
      "source": [
        "QN2 )\n",
        "Write a Python program to get the largest number from a list."
      ],
      "metadata": {
        "id": "S5ZEjkUpKoIL"
      }
    },
    {
      "cell_type": "code",
      "source": [
        "def max_num_list(list):\n",
        "    max = list[0]\n",
        "    for a in list:\n",
        "        if a > max:\n",
        "            max = a\n",
        "    return max\n",
        "\n",
        "print(max_num_list([1, 2, -5, 0]))"
      ],
      "metadata": {
        "colab": {
          "base_uri": "https://localhost:8080/"
        },
        "id": "9k2zU8ZoKmtH",
        "outputId": "fd054f03-2849-49f5-bac7-6a949a76bda5"
      },
      "execution_count": 3,
      "outputs": [
        {
          "output_type": "stream",
          "name": "stdout",
          "text": [
            "2\n"
          ]
        }
      ]
    },
    {
      "cell_type": "markdown",
      "source": [
        "Write a Python program to remove duplicates from a list.\n"
      ],
      "metadata": {
        "id": "Ic4m8n0ZLl1b"
      }
    },
    {
      "cell_type": "code",
      "source": [
        "a = [10, 20, 30, 20, 10, 50, 60, 40, 80, 50, 40]\n",
        "dup_items = set()\n",
        "uniq_items = []\n",
        "for x in a:\n",
        "    if x not in dup_items:\n",
        "        uniq_items.append(x)\n",
        "        dup_items.add(x)\n",
        "print(dup_items)"
      ],
      "metadata": {
        "colab": {
          "base_uri": "https://localhost:8080/"
        },
        "id": "9b_mjvN1LdOJ",
        "outputId": "8bdf0d77-36bb-46a5-9d38-b7ed1348d1f9"
      },
      "execution_count": 4,
      "outputs": [
        {
          "output_type": "stream",
          "name": "stdout",
          "text": [
            "{40, 10, 80, 50, 20, 60, 30}\n"
          ]
        }
      ]
    },
    {
      "cell_type": "code",
      "source": [],
      "metadata": {
        "id": "k9lcP2jhL4P-"
      },
      "execution_count": null,
      "outputs": []
    }
  ]
}